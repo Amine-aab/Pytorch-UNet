{
  "nbformat": 4,
  "nbformat_minor": 0,
  "metadata": {
    "colab": {
      "name": "Unet_kantenExtraktion.ipynb",
      "provenance": [],
      "collapsed_sections": [],
      "machine_shape": "hm",
      "authorship_tag": "ABX9TyPL7rxC9rNrgCjzUpzrMRa8",
      "include_colab_link": true
    },
    "kernelspec": {
      "name": "python3",
      "display_name": "Python 3"
    },
    "language_info": {
      "name": "python"
    },
    "accelerator": "GPU"
  },
  "cells": [
    {
      "cell_type": "markdown",
      "metadata": {
        "id": "view-in-github",
        "colab_type": "text"
      },
      "source": [
        "<a href=\"https://colab.research.google.com/github/Amine-aab/Pytorch-UNet/blob/master/Unet_kantenExtraktion.ipynb\" target=\"_parent\"><img src=\"https://colab.research.google.com/assets/colab-badge.svg\" alt=\"Open In Colab\"/></a>"
      ]
    },
    {
      "cell_type": "code",
      "execution_count": 54,
      "metadata": {
        "id": "1tH76coDMVDd",
        "colab": {
          "base_uri": "https://localhost:8080/"
        },
        "outputId": "e44e3b91-2af1-4702-f55a-80961b970831"
      },
      "outputs": [
        {
          "output_type": "stream",
          "name": "stdout",
          "text": [
            "Looking in indexes: https://pypi.org/simple, https://us-python.pkg.dev/colab-wheels/public/simple/\n",
            "Requirement already satisfied: patchify in /usr/local/lib/python3.7/dist-packages (0.2.3)\n",
            "Requirement already satisfied: numpy<2,>=1 in /usr/local/lib/python3.7/dist-packages (from patchify) (1.21.6)\n"
          ]
        }
      ],
      "source": [
        "!pip install patchify\n",
        "import os\n",
        "import numpy as np\n",
        "from matplotlib import pyplot as plt\n",
        "import tensorflow as tf\n",
        "from tensorflow.keras.utils import normalize\n",
        "import cv2\n",
        "from PIL import Image\n",
        "from matplotlib import pyplot as plt\n",
        "from patchify import patchify, unpatchify\n",
        "import tifffile as tiff\n",
        "from sklearn.preprocessing import MinMaxScaler\n",
        "from tensorflow.keras.optimizers import Adam\n",
        "from keras import backend as K"
      ]
    },
    {
      "cell_type": "code",
      "source": [
        "seed=24\n",
        "batch_size= 2\n",
        "from tensorflow.keras.preprocessing.image import ImageDataGenerator"
      ],
      "metadata": {
        "id": "FcHnL0oeNI-i"
      },
      "execution_count": 110,
      "outputs": []
    },
    {
      "cell_type": "code",
      "source": [
        "from google.colab import drive\n",
        "drive.mount('/content/drive')"
      ],
      "metadata": {
        "colab": {
          "base_uri": "https://localhost:8080/"
        },
        "id": "NUJyGab0NXh8",
        "outputId": "4164f6fd-cd5a-4ac6-f141-f35e09dc2d77"
      },
      "execution_count": 111,
      "outputs": [
        {
          "output_type": "stream",
          "name": "stdout",
          "text": [
            "Drive already mounted at /content/drive; to attempt to forcibly remount, call drive.mount(\"/content/drive\", force_remount=True).\n"
          ]
        }
      ]
    },
    {
      "cell_type": "code",
      "source": [
        "img_data_gen_args = dict(rescale = 1/255.,\n",
        "                         rotation_range=0,\n",
        "                      width_shift_range=0,\n",
        "                      height_shift_range=0.1,\n",
        "                      shear_range=0,\n",
        "                      zoom_range=0,\n",
        "                      horizontal_flip=True ,\n",
        "                      vertical_flip=False,\n",
        "                      #fill_mode='reflect'\n",
        "                      )\n",
        "\n",
        "mask_data_gen_args = dict(rescale = 1,  ### rescaling to 0 to 1 !!!!!!!!!\n",
        "                        rotation_range=0,\n",
        "                      width_shift_range=0,\n",
        "                      height_shift_range=0.1,\n",
        "                      shear_range=0,\n",
        "                      zoom_range=0,\n",
        "                      horizontal_flip=True,\n",
        "                      vertical_flip=False,\n",
        "                      #fill_mode='reflect',\n",
        "                      preprocessing_function = lambda x: np.where(x>0, 1, 0).astype(x.dtype)) #Binarize the output again. "
      ],
      "metadata": {
        "id": "EUkB7ztUN_OU"
      },
      "execution_count": 112,
      "outputs": []
    },
    {
      "cell_type": "code",
      "source": [
        "!pip install split-folders\n",
        "import splitfolders\n",
        "input_folder = '/content/drive/MyDrive/MasterArbeit/Daten2/'\n",
        "splitfolders.ratio(input_folder, output=\"data3\", seed=1337, ratio=(.8, .1, .1), group_prefix=None)"
      ],
      "metadata": {
        "colab": {
          "base_uri": "https://localhost:8080/"
        },
        "id": "UFJMf0n6Qpxz",
        "outputId": "b8d41578-e239-4aed-a578-951698528035"
      },
      "execution_count": 113,
      "outputs": [
        {
          "output_type": "stream",
          "name": "stdout",
          "text": [
            "Looking in indexes: https://pypi.org/simple, https://us-python.pkg.dev/colab-wheels/public/simple/\n",
            "Requirement already satisfied: split-folders in /usr/local/lib/python3.7/dist-packages (0.5.1)\n"
          ]
        },
        {
          "output_type": "stream",
          "name": "stderr",
          "text": [
            "Copying files: 1020 files [00:06, 147.46 files/s]\n"
          ]
        }
      ]
    },
    {
      "cell_type": "code",
      "source": [
        "image_data_generator = ImageDataGenerator(**img_data_gen_args)\n",
        "\n",
        "image_generator = image_data_generator.flow_from_directory(\"data3/train_images/\", target_size=(1024,1216),\n",
        "                                                           seed=seed, \n",
        "                                                           batch_size=batch_size,\n",
        "                                                           color_mode = 'grayscale',\n",
        "                                                           class_mode=None)   "
      ],
      "metadata": {
        "colab": {
          "base_uri": "https://localhost:8080/"
        },
        "id": "waOBLboZRkos",
        "outputId": "19afdc6e-e158-4693-8d70-d58c2325c059"
      },
      "execution_count": 114,
      "outputs": [
        {
          "output_type": "stream",
          "name": "stdout",
          "text": [
            "Found 408 images belonging to 1 classes.\n"
          ]
        }
      ]
    },
    {
      "cell_type": "code",
      "source": [
        "mask_data_generator = ImageDataGenerator(**mask_data_gen_args)\n",
        "\n",
        "mask_generator = mask_data_generator.flow_from_directory(\"data3/train_masks\", target_size=(1024,1216),\n",
        "                                                         seed=seed, \n",
        "                                                         batch_size=batch_size,\n",
        "                                                         color_mode = 'grayscale',   #Read masks in grayscale\n",
        "                                                         class_mode=None)"
      ],
      "metadata": {
        "colab": {
          "base_uri": "https://localhost:8080/"
        },
        "id": "hudokgOqR1VK",
        "outputId": "13e3f084-f1ec-4560-d7e0-351b662b22e3"
      },
      "execution_count": 115,
      "outputs": [
        {
          "output_type": "stream",
          "name": "stdout",
          "text": [
            "Found 408 images belonging to 1 classes.\n"
          ]
        }
      ]
    },
    {
      "cell_type": "code",
      "source": [
        "valid_img_generator = image_data_generator.flow_from_directory(\"data3/val_images/\", target_size=(1024,1216),\n",
        "                                                               seed=seed, \n",
        "                                                               batch_size=batch_size, \n",
        "                                                               color_mode = 'grayscale',\n",
        "                                                               class_mode=None) #Default batch size 32, if not specified here\n",
        "\n",
        "valid_mask_generator = mask_data_generator.flow_from_directory(\"data3/val_masks/\",  target_size=(1024,1216), \n",
        "                                                               seed=seed, \n",
        "                                                               batch_size=batch_size, \n",
        "                                                               color_mode = 'grayscale',   #Read masks in grayscale\n",
        "                                                               class_mode=None)  #Default batch size 32, if not specified here"
      ],
      "metadata": {
        "colab": {
          "base_uri": "https://localhost:8080/"
        },
        "id": "tQuZ9AIfXptW",
        "outputId": "b552a415-743b-47ea-fe5c-3c5750f3d4c0"
      },
      "execution_count": 116,
      "outputs": [
        {
          "output_type": "stream",
          "name": "stdout",
          "text": [
            "Found 51 images belonging to 1 classes.\n",
            "Found 51 images belonging to 1 classes.\n"
          ]
        }
      ]
    },
    {
      "cell_type": "code",
      "source": [
        "train_generator = zip(image_generator, mask_generator)\n",
        "val_generator = zip(valid_img_generator, valid_mask_generator)"
      ],
      "metadata": {
        "id": "9y9bFEw6aDoE"
      },
      "execution_count": 117,
      "outputs": []
    },
    {
      "cell_type": "code",
      "source": [
        "x = image_generator.next()\n",
        "y = mask_generator.next()\n",
        "for i in range(0,1):\n",
        "    image = x[i]\n",
        "    mask = y[i]\n",
        "    plt.subplot(1,2,1)\n",
        "    plt.imshow(image[:,:,0], cmap='gray')\n",
        "    plt.subplot(1,2,2)\n",
        "    plt.imshow(mask[:,:,0])\n",
        "    plt.show()"
      ],
      "metadata": {
        "colab": {
          "base_uri": "https://localhost:8080/",
          "height": 180
        },
        "id": "P8BMQs8fYB2r",
        "outputId": "7d46e453-5a4c-4e12-95f7-83a57ba1f169"
      },
      "execution_count": 118,
      "outputs": [
        {
          "output_type": "display_data",
          "data": {
            "text/plain": [
              "<Figure size 432x288 with 2 Axes>"
            ],
            "image/png": "[encoded data removed]"
          },
          "metadata": {
            "needs_background": "light"
          }
        }
      ]
    },
    {
      "cell_type": "code",
      "source": [
        "def dice_metric(y_pred, y_true):\n",
        "  \n",
        "    intersection = K.sum(K.sum(K.abs(y_true * y_pred), axis=-1))\n",
        "    union = K.sum(K.sum(K.abs(y_true) + K.abs(y_pred), axis=-1))\n",
        "    # if y_pred.sum() == 0 and y_pred.sum() == 0:\n",
        "    #     return 1.0\n",
        "    dice= 2*intersection / union\n",
        "    return dice"
      ],
      "metadata": {
        "id": "2SCyyTHGcoUZ"
      },
      "execution_count": 119,
      "outputs": []
    },
    {
      "cell_type": "code",
      "source": [
        "dice= dice_metric"
      ],
      "metadata": {
        "id": "4qTKdiefmAnn"
      },
      "execution_count": 120,
      "outputs": []
    },
    {
      "cell_type": "code",
      "source": [
        "IMG_HEIGHT = x.shape[1]\n",
        "IMG_WIDTH  = x.shape[2]\n",
        "IMG_CHANNELS = x.shape[3]"
      ],
      "metadata": {
        "id": "AIr_6LDCc6qy"
      },
      "execution_count": 121,
      "outputs": []
    },
    {
      "cell_type": "code",
      "source": [
        "input_shape = (IMG_HEIGHT, IMG_WIDTH, IMG_CHANNELS)"
      ],
      "metadata": {
        "id": "yW-FE1m8dGkK"
      },
      "execution_count": 122,
      "outputs": []
    },
    {
      "cell_type": "code",
      "source": [
        "# Building Unet by dividing encoder and decoder into blocks\n",
        "\n",
        "from tensorflow.keras.models import Model\n",
        "from tensorflow.keras.layers import Input, Conv2D, MaxPooling2D, UpSampling2D, concatenate, Conv2DTranspose, BatchNormalization, Dropout, Lambda\n",
        "from tensorflow.keras.optimizers import Adam\n",
        "from tensorflow.keras.layers import Activation, MaxPool2D, Concatenate\n",
        "\n",
        "\n",
        "def conv_block(input, num_filters):\n",
        "    x = Conv2D(num_filters, 3, padding=\"same\")(input)\n",
        "    x = BatchNormalization()(x)   #Not in the original network. \n",
        "    x = Activation(\"relu\")(x)\n",
        "\n",
        "    x = Conv2D(num_filters, 3, padding=\"same\")(x)\n",
        "    x = BatchNormalization()(x)  #Not in the original network\n",
        "    x = Activation(\"relu\")(x)\n",
        "\n",
        "    return x\n",
        "\n",
        "#Encoder block: Conv block followed by maxpooling\n",
        "\n",
        "\n",
        "def encoder_block(input, num_filters):\n",
        "    x = conv_block(input, num_filters)\n",
        "    p = MaxPool2D((2, 2))(x)\n",
        "    return x, p   \n",
        "\n",
        "#Decoder block\n",
        "#skip features gets input from encoder for concatenation\n",
        "\n",
        "def decoder_block(input, skip_features, num_filters):\n",
        "    x = Conv2DTranspose(num_filters, (2, 2), strides=2, padding=\"same\")(input)\n",
        "    x = Concatenate()([x, skip_features])\n",
        "    x = conv_block(x, num_filters)\n",
        "    return x\n",
        "\n",
        "#Build Unet using the blocks\n",
        "def build_unet(input_shape):\n",
        "    inputs = Input(input_shape)\n",
        "\n",
        "    s1, p1 = encoder_block(inputs, 64)\n",
        "    s2, p2 = encoder_block(p1, 128)\n",
        "    s3, p3 = encoder_block(p2, 256)\n",
        "    s4, p4 = encoder_block(p3, 512)\n",
        "\n",
        "    b1 = conv_block(p4, 1024) #Bridge\n",
        "\n",
        "    d1 = decoder_block(b1, s4, 512)\n",
        "    d2 = decoder_block(d1, s3, 256)\n",
        "    d3 = decoder_block(d2, s2, 128)\n",
        "    d4 = decoder_block(d3, s1, 64)\n",
        "\n",
        "    outputs = Conv2D(1, 1, padding=\"same\", activation=\"sigmoid\")(d4)  #Binary (can be multiclass)\n",
        "\n",
        "    model = Model(inputs, outputs, name=\"U-Net\")\n",
        "    return model"
      ],
      "metadata": {
        "id": "DiPI1hHXYCT7"
      },
      "execution_count": 123,
      "outputs": []
    },
    {
      "cell_type": "code",
      "source": [
        "model=build_unet(input_shape)"
      ],
      "metadata": {
        "id": "HVOJxZSZdtVT"
      },
      "execution_count": 124,
      "outputs": []
    },
    {
      "cell_type": "code",
      "source": [
        "#!pip install focal_loss\n",
        "#from focal_loss import BinaryFocalLoss\n",
        "\n",
        "optimizer= tf.keras.optimizers.SGD(learning_rate = 0.01, momentum = 0.9, nesterov = False)\n",
        "\n",
        "model.compile(optimizer, \n",
        "              loss=tf.keras.losses.BinaryCrossentropy(), \n",
        "              metrics=[dice_metric])"
      ],
      "metadata": {
        "id": "Q7_fjedndRqK"
      },
      "execution_count": 125,
      "outputs": []
    },
    {
      "cell_type": "code",
      "source": [
        "model.summary()"
      ],
      "metadata": {
        "id": "6jnLFftHeP0a",
        "colab": {
          "base_uri": "https://localhost:8080/"
        },
        "outputId": "75485a06-759b-46ce-ef03-dba27984ff4b"
      },
      "execution_count": 126,
      "outputs": [
        {
          "output_type": "stream",
          "name": "stdout",
          "text": [
            "Model: \"U-Net\"\n",
            "__________________________________________________________________________________________________\n",
            " Layer (type)                   Output Shape         Param #     Connected to                     \n",
            "==================================================================================================\n",
            " input_6 (InputLayer)           [(None, 1024, 1216,  0           []                               \n",
            "                                 1)]                                                              \n",
            "                                                                                                  \n",
            " conv2d_95 (Conv2D)             (None, 1024, 1216,   640         ['input_6[0][0]']                \n",
            "                                64)                                                               \n",
            "                                                                                                  \n",
            " batch_normalization_90 (BatchN  (None, 1024, 1216,   256        ['conv2d_95[0][0]']              \n",
            " ormalization)                  64)                                                               \n",
            "                                                                                                  \n",
            " activation_90 (Activation)     (None, 1024, 1216,   0           ['batch_normalization_90[0][0]'] \n",
            "                                64)                                                               \n",
            "                                                                                                  \n",
            " conv2d_96 (Conv2D)             (None, 1024, 1216,   36928       ['activation_90[0][0]']          \n",
            "                                64)                                                               \n",
            "                                                                                                  \n",
            " batch_normalization_91 (BatchN  (None, 1024, 1216,   256        ['conv2d_96[0][0]']              \n",
            " ormalization)                  64)                                                               \n",
            "                                                                                                  \n",
            " activation_91 (Activation)     (None, 1024, 1216,   0           ['batch_normalization_91[0][0]'] \n",
            "                                64)                                                               \n",
            "                                                                                                  \n",
            " max_pooling2d_20 (MaxPooling2D  (None, 512, 608, 64  0          ['activation_91[0][0]']          \n",
            " )                              )                                                                 \n",
            "                                                                                                  \n",
            " conv2d_97 (Conv2D)             (None, 512, 608, 12  73856       ['max_pooling2d_20[0][0]']       \n",
            "                                8)                                                                \n",
            "                                                                                                  \n",
            " batch_normalization_92 (BatchN  (None, 512, 608, 12  512        ['conv2d_97[0][0]']              \n",
            " ormalization)                  8)                                                                \n",
            "                                                                                                  \n",
            " activation_92 (Activation)     (None, 512, 608, 12  0           ['batch_normalization_92[0][0]'] \n",
            "                                8)                                                                \n",
            "                                                                                                  \n",
            " conv2d_98 (Conv2D)             (None, 512, 608, 12  147584      ['activation_92[0][0]']          \n",
            "                                8)                                                                \n",
            "                                                                                                  \n",
            " batch_normalization_93 (BatchN  (None, 512, 608, 12  512        ['conv2d_98[0][0]']              \n",
            " ormalization)                  8)                                                                \n",
            "                                                                                                  \n",
            " activation_93 (Activation)     (None, 512, 608, 12  0           ['batch_normalization_93[0][0]'] \n",
            "                                8)                                                                \n",
            "                                                                                                  \n",
            " max_pooling2d_21 (MaxPooling2D  (None, 256, 304, 12  0          ['activation_93[0][0]']          \n",
            " )                              8)                                                                \n",
            "                                                                                                  \n",
            " conv2d_99 (Conv2D)             (None, 256, 304, 25  295168      ['max_pooling2d_21[0][0]']       \n",
            "                                6)                                                                \n",
            "                                                                                                  \n",
            " batch_normalization_94 (BatchN  (None, 256, 304, 25  1024       ['conv2d_99[0][0]']              \n",
            " ormalization)                  6)                                                                \n",
            "                                                                                                  \n",
            " activation_94 (Activation)     (None, 256, 304, 25  0           ['batch_normalization_94[0][0]'] \n",
            "                                6)                                                                \n",
            "                                                                                                  \n",
            " conv2d_100 (Conv2D)            (None, 256, 304, 25  590080      ['activation_94[0][0]']          \n",
            "                                6)                                                                \n",
            "                                                                                                  \n",
            " batch_normalization_95 (BatchN  (None, 256, 304, 25  1024       ['conv2d_100[0][0]']             \n",
            " ormalization)                  6)                                                                \n",
            "                                                                                                  \n",
            " activation_95 (Activation)     (None, 256, 304, 25  0           ['batch_normalization_95[0][0]'] \n",
            "                                6)                                                                \n",
            "                                                                                                  \n",
            " max_pooling2d_22 (MaxPooling2D  (None, 128, 152, 25  0          ['activation_95[0][0]']          \n",
            " )                              6)                                                                \n",
            "                                                                                                  \n",
            " conv2d_101 (Conv2D)            (None, 128, 152, 51  1180160     ['max_pooling2d_22[0][0]']       \n",
            "                                2)                                                                \n",
            "                                                                                                  \n",
            " batch_normalization_96 (BatchN  (None, 128, 152, 51  2048       ['conv2d_101[0][0]']             \n",
            " ormalization)                  2)                                                                \n",
            "                                                                                                  \n",
            " activation_96 (Activation)     (None, 128, 152, 51  0           ['batch_normalization_96[0][0]'] \n",
            "                                2)                                                                \n",
            "                                                                                                  \n",
            " conv2d_102 (Conv2D)            (None, 128, 152, 51  2359808     ['activation_96[0][0]']          \n",
            "                                2)                                                                \n",
            "                                                                                                  \n",
            " batch_normalization_97 (BatchN  (None, 128, 152, 51  2048       ['conv2d_102[0][0]']             \n",
            " ormalization)                  2)                                                                \n",
            "                                                                                                  \n",
            " activation_97 (Activation)     (None, 128, 152, 51  0           ['batch_normalization_97[0][0]'] \n",
            "                                2)                                                                \n",
            "                                                                                                  \n",
            " max_pooling2d_23 (MaxPooling2D  (None, 64, 76, 512)  0          ['activation_97[0][0]']          \n",
            " )                                                                                                \n",
            "                                                                                                  \n",
            " conv2d_103 (Conv2D)            (None, 64, 76, 1024  4719616     ['max_pooling2d_23[0][0]']       \n",
            "                                )                                                                 \n",
            "                                                                                                  \n",
            " batch_normalization_98 (BatchN  (None, 64, 76, 1024  4096       ['conv2d_103[0][0]']             \n",
            " ormalization)                  )                                                                 \n",
            "                                                                                                  \n",
            " activation_98 (Activation)     (None, 64, 76, 1024  0           ['batch_normalization_98[0][0]'] \n",
            "                                )                                                                 \n",
            "                                                                                                  \n",
            " conv2d_104 (Conv2D)            (None, 64, 76, 1024  9438208     ['activation_98[0][0]']          \n",
            "                                )                                                                 \n",
            "                                                                                                  \n",
            " batch_normalization_99 (BatchN  (None, 64, 76, 1024  4096       ['conv2d_104[0][0]']             \n",
            " ormalization)                  )                                                                 \n",
            "                                                                                                  \n",
            " activation_99 (Activation)     (None, 64, 76, 1024  0           ['batch_normalization_99[0][0]'] \n",
            "                                )                                                                 \n",
            "                                                                                                  \n",
            " conv2d_transpose_20 (Conv2DTra  (None, 128, 152, 51  2097664    ['activation_99[0][0]']          \n",
            " nspose)                        2)                                                                \n",
            "                                                                                                  \n",
            " concatenate_20 (Concatenate)   (None, 128, 152, 10  0           ['conv2d_transpose_20[0][0]',    \n",
            "                                24)                               'activation_97[0][0]']          \n",
            "                                                                                                  \n",
            " conv2d_105 (Conv2D)            (None, 128, 152, 51  4719104     ['concatenate_20[0][0]']         \n",
            "                                2)                                                                \n",
            "                                                                                                  \n",
            " batch_normalization_100 (Batch  (None, 128, 152, 51  2048       ['conv2d_105[0][0]']             \n",
            " Normalization)                 2)                                                                \n",
            "                                                                                                  \n",
            " activation_100 (Activation)    (None, 128, 152, 51  0           ['batch_normalization_100[0][0]']\n",
            "                                2)                                                                \n",
            "                                                                                                  \n",
            " conv2d_106 (Conv2D)            (None, 128, 152, 51  2359808     ['activation_100[0][0]']         \n",
            "                                2)                                                                \n",
            "                                                                                                  \n",
            " batch_normalization_101 (Batch  (None, 128, 152, 51  2048       ['conv2d_106[0][0]']             \n",
            " Normalization)                 2)                                                                \n",
            "                                                                                                  \n",
            " activation_101 (Activation)    (None, 128, 152, 51  0           ['batch_normalization_101[0][0]']\n",
            "                                2)                                                                \n",
            "                                                                                                  \n",
            " conv2d_transpose_21 (Conv2DTra  (None, 256, 304, 25  524544     ['activation_101[0][0]']         \n",
            " nspose)                        6)                                                                \n",
            "                                                                                                  \n",
            " concatenate_21 (Concatenate)   (None, 256, 304, 51  0           ['conv2d_transpose_21[0][0]',    \n",
            "                                2)                                'activation_95[0][0]']          \n",
            "                                                                                                  \n",
            " conv2d_107 (Conv2D)            (None, 256, 304, 25  1179904     ['concatenate_21[0][0]']         \n",
            "                                6)                                                                \n",
            "                                                                                                  \n",
            " batch_normalization_102 (Batch  (None, 256, 304, 25  1024       ['conv2d_107[0][0]']             \n",
            " Normalization)                 6)                                                                \n",
            "                                                                                                  \n",
            " activation_102 (Activation)    (None, 256, 304, 25  0           ['batch_normalization_102[0][0]']\n",
            "                                6)                                                                \n",
            "                                                                                                  \n",
            " conv2d_108 (Conv2D)            (None, 256, 304, 25  590080      ['activation_102[0][0]']         \n",
            "                                6)                                                                \n",
            "                                                                                                  \n",
            " batch_normalization_103 (Batch  (None, 256, 304, 25  1024       ['conv2d_108[0][0]']             \n",
            " Normalization)                 6)                                                                \n",
            "                                                                                                  \n",
            " activation_103 (Activation)    (None, 256, 304, 25  0           ['batch_normalization_103[0][0]']\n",
            "                                6)                                                                \n",
            "                                                                                                  \n",
            " conv2d_transpose_22 (Conv2DTra  (None, 512, 608, 12  131200     ['activation_103[0][0]']         \n",
            " nspose)                        8)                                                                \n",
            "                                                                                                  \n",
            " concatenate_22 (Concatenate)   (None, 512, 608, 25  0           ['conv2d_transpose_22[0][0]',    \n",
            "                                6)                                'activation_93[0][0]']          \n",
            "                                                                                                  \n",
            " conv2d_109 (Conv2D)            (None, 512, 608, 12  295040      ['concatenate_22[0][0]']         \n",
            "                                8)                                                                \n",
            "                                                                                                  \n",
            " batch_normalization_104 (Batch  (None, 512, 608, 12  512        ['conv2d_109[0][0]']             \n",
            " Normalization)                 8)                                                                \n",
            "                                                                                                  \n",
            " activation_104 (Activation)    (None, 512, 608, 12  0           ['batch_normalization_104[0][0]']\n",
            "                                8)                                                                \n",
            "                                                                                                  \n",
            " conv2d_110 (Conv2D)            (None, 512, 608, 12  147584      ['activation_104[0][0]']         \n",
            "                                8)                                                                \n",
            "                                                                                                  \n",
            " batch_normalization_105 (Batch  (None, 512, 608, 12  512        ['conv2d_110[0][0]']             \n",
            " Normalization)                 8)                                                                \n",
            "                                                                                                  \n",
            " activation_105 (Activation)    (None, 512, 608, 12  0           ['batch_normalization_105[0][0]']\n",
            "                                8)                                                                \n",
            "                                                                                                  \n",
            " conv2d_transpose_23 (Conv2DTra  (None, 1024, 1216,   32832      ['activation_105[0][0]']         \n",
            " nspose)                        64)                                                               \n",
            "                                                                                                  \n",
            " concatenate_23 (Concatenate)   (None, 1024, 1216,   0           ['conv2d_transpose_23[0][0]',    \n",
            "                                128)                              'activation_91[0][0]']          \n",
            "                                                                                                  \n",
            " conv2d_111 (Conv2D)            (None, 1024, 1216,   73792       ['concatenate_23[0][0]']         \n",
            "                                64)                                                               \n",
            "                                                                                                  \n",
            " batch_normalization_106 (Batch  (None, 1024, 1216,   256        ['conv2d_111[0][0]']             \n",
            " Normalization)                 64)                                                               \n",
            "                                                                                                  \n",
            " activation_106 (Activation)    (None, 1024, 1216,   0           ['batch_normalization_106[0][0]']\n",
            "                                64)                                                               \n",
            "                                                                                                  \n",
            " conv2d_112 (Conv2D)            (None, 1024, 1216,   36928       ['activation_106[0][0]']         \n",
            "                                64)                                                               \n",
            "                                                                                                  \n",
            " batch_normalization_107 (Batch  (None, 1024, 1216,   256        ['conv2d_112[0][0]']             \n",
            " Normalization)                 64)                                                               \n",
            "                                                                                                  \n",
            " activation_107 (Activation)    (None, 1024, 1216,   0           ['batch_normalization_107[0][0]']\n",
            "                                64)                                                               \n",
            "                                                                                                  \n",
            " conv2d_113 (Conv2D)            (None, 1024, 1216,   65          ['activation_107[0][0]']         \n",
            "                                1)                                                                \n",
            "                                                                                                  \n",
            "==================================================================================================\n",
            "Total params: 31,054,145\n",
            "Trainable params: 31,042,369\n",
            "Non-trainable params: 11,776\n",
            "__________________________________________________________________________________________________\n"
          ]
        }
      ]
    },
    {
      "cell_type": "code",
      "source": [
        "num_train_imgs = len(os.listdir('data3/train_images/images/'))\n",
        "num_train_imgs"
      ],
      "metadata": {
        "colab": {
          "base_uri": "https://localhost:8080/"
        },
        "id": "WE3HtzkcjxTr",
        "outputId": "b46b2111-5e39-4eab-ccaf-cfd1b81b38e3"
      },
      "execution_count": 127,
      "outputs": [
        {
          "output_type": "execute_result",
          "data": {
            "text/plain": [
              "408"
            ]
          },
          "metadata": {},
          "execution_count": 127
        }
      ]
    },
    {
      "cell_type": "code",
      "source": [
        "steps_per_epoch = num_train_imgs //batch_size\n",
        "steps_per_epoch"
      ],
      "metadata": {
        "colab": {
          "base_uri": "https://localhost:8080/"
        },
        "id": "ee0RfB4Jj32b",
        "outputId": "3a456810-111d-4b9e-b4d6-44c13b73dbbb"
      },
      "execution_count": 128,
      "outputs": [
        {
          "output_type": "execute_result",
          "data": {
            "text/plain": [
              "204"
            ]
          },
          "metadata": {},
          "execution_count": 128
        }
      ]
    },
    {
      "cell_type": "code",
      "source": [
        "\n",
        "print(\"Num GPUs Available: \", len(tf.config.list_physical_devices('GPU')))"
      ],
      "metadata": {
        "colab": {
          "base_uri": "https://localhost:8080/"
        },
        "id": "HWhsuAXtmmtH",
        "outputId": "f5a2892c-85b5-4a1c-d1bf-c08e4b7bd35a"
      },
      "execution_count": 129,
      "outputs": [
        {
          "output_type": "stream",
          "name": "stdout",
          "text": [
            "Num GPUs Available:  1\n"
          ]
        }
      ]
    },
    {
      "cell_type": "code",
      "source": [
        "from psutil import virtual_memory\n",
        "ram_gb = virtual_memory().total / 1e9\n",
        "print('Your runtime has {:.1f} gigabytes of available RAM\\n'.format(ram_gb))\n",
        "\n",
        "if ram_gb < 20:\n",
        "  print('Not using a high-RAM runtime')\n",
        "else:\n",
        "  print('You are using a high-RAM runtime!')"
      ],
      "metadata": {
        "colab": {
          "base_uri": "https://localhost:8080/"
        },
        "id": "JPhlTZL9sJsH",
        "outputId": "3f236da6-9f31-4e3b-9d30-087f3b6575db"
      },
      "execution_count": 130,
      "outputs": [
        {
          "output_type": "stream",
          "name": "stdout",
          "text": [
            "Your runtime has 27.3 gigabytes of available RAM\n",
            "\n",
            "You are using a high-RAM runtime!\n"
          ]
        }
      ]
    },
    {
      "cell_type": "code",
      "source": [
        "gpu_opts = tf.compat.v1.GPUOptions(per_process_gpu_memory_fraction=0.9)\n",
        "sess = tf.compat.v1.Session(config=tf.compat.v1.ConfigProto(gpu_options=gpu_opts))"
      ],
      "metadata": {
        "id": "U5oAuBrc6FxF"
      },
      "execution_count": 131,
      "outputs": []
    },
    {
      "cell_type": "code",
      "source": [
        "history = model.fit_generator(generator=train_generator, validation_data=val_generator, \n",
        "                    steps_per_epoch=steps_per_epoch, epochs=300, \n",
        "                    validation_steps= steps_per_epoch)"
      ],
      "metadata": {
        "colab": {
          "base_uri": "https://localhost:8080/"
        },
        "id": "8qS5JblLkAbO",
        "outputId": "81d9533c-a18a-4970-fcc0-cdd2d1a83a06"
      },
      "execution_count": null,
      "outputs": [
        {
          "output_type": "stream",
          "name": "stderr",
          "text": [
            "/usr/local/lib/python3.7/dist-packages/ipykernel_launcher.py:3: UserWarning: `Model.fit_generator` is deprecated and will be removed in a future version. Please use `Model.fit`, which supports generators.\n",
            "  This is separate from the ipykernel package so we can avoid doing imports until\n"
          ]
        },
        {
          "output_type": "stream",
          "name": "stdout",
          "text": [
            "Epoch 1/300\n",
            "204/204 [==============================] - 357s 2s/step - loss: 0.0609 - dice_metric: 0.1197 - val_loss: 0.0470 - val_dice_metric: 0.0072\n",
            "Epoch 2/300\n",
            "204/204 [==============================] - 351s 2s/step - loss: 0.0330 - dice_metric: 0.2087 - val_loss: 0.0440 - val_dice_metric: 0.0176\n",
            "Epoch 3/300\n",
            "204/204 [==============================] - 352s 2s/step - loss: 0.0305 - dice_metric: 0.2303 - val_loss: 0.0396 - val_dice_metric: 0.0618\n",
            "Epoch 4/300\n",
            "204/204 [==============================] - 351s 2s/step - loss: 0.0264 - dice_metric: 0.2952 - val_loss: 0.0504 - val_dice_metric: 0.1440\n",
            "Epoch 5/300\n",
            "204/204 [==============================] - 351s 2s/step - loss: 0.0275 - dice_metric: 0.3016 - val_loss: 0.0816 - val_dice_metric: 0.1661\n",
            "Epoch 6/300\n",
            "204/204 [==============================] - 352s 2s/step - loss: 0.0250 - dice_metric: 0.3267 - val_loss: 0.0408 - val_dice_metric: 0.1630\n",
            "Epoch 7/300\n",
            "182/204 [=========================>....] - ETA: 26s - loss: 0.0244 - dice_metric: 0.3505"
          ]
        }
      ]
    },
    {
      "cell_type": "code",
      "source": [
        "model.save('/content/drive/MyDrive/MasterArbeit/Ergebnisse/Unet_KantenExtraktion_1024_1216_SGD_lr_0.01.hdf5')"
      ],
      "metadata": {
        "id": "kR_ozKdpmlWu"
      },
      "execution_count": null,
      "outputs": []
    },
    {
      "cell_type": "code",
      "source": [
        "#plot the training and validation accuracy and loss at each epoch\n",
        "loss = history.history['loss']\n",
        "val_loss = history.history['val_loss']\n",
        "epochs = range(1, len(loss) + 1)\n",
        "plt.plot(epochs, loss, 'y', label='Training loss')\n",
        "plt.plot(epochs, val_loss, 'r', label='Validation loss')\n",
        "plt.title('Training and validation loss')\n",
        "plt.xlabel('Epochs')\n",
        "plt.ylabel('Loss')\n",
        "plt.legend()\n",
        "plt.show()"
      ],
      "metadata": {
        "id": "CnmcMtyjsEE9"
      },
      "execution_count": null,
      "outputs": []
    },
    {
      "cell_type": "code",
      "source": [
        "acc = history.history['dice_metric']\n",
        "#acc = history.history['accuracy']\n",
        "val_acc = history.history['val_dice_metric']\n",
        "#val_acc = history.history['val_accuracy']\n",
        "\n",
        "plt.plot(epochs, acc, 'y', label='Training Dice')\n",
        "plt.plot(epochs, val_acc, 'r', label='Validation Dice')\n",
        "plt.title('Training and validation Dice')\n",
        "plt.xlabel('Epochs')\n",
        "plt.ylabel('Dice')\n",
        "plt.legend()\n",
        "plt.show()"
      ],
      "metadata": {
        "id": "KhMKRSKItJd3"
      },
      "execution_count": null,
      "outputs": []
    },
    {
      "cell_type": "code",
      "source": [
        "model = tf.keras.models.load_model(\"/content/drive/MyDrive/MasterArbeit/Ergebnisse/Unet_KantenExtraktion_1024_1216_SGD_lr_0.01.hdf5\", compile=False)\n",
        "\n",
        "test_img_generator = image_data_generator.flow_from_directory(\"data3/test_images/\", target_size=(512,608),\n",
        "                                                              seed=seed, \n",
        "                                                              batch_size=16, color_mode = 'grayscale',\n",
        "                                                              class_mode=None) #Default batch size 32, if not specified here\n",
        "\n",
        "test_mask_generator = mask_data_generator.flow_from_directory(\"data3/test_masks/\", target_size=(512,608),\n",
        "                                                              seed=seed, \n",
        "                                                              batch_size=16, \n",
        "                                                              color_mode = 'grayscale',   #Read masks in grayscale\n",
        "                                                              class_mode=None)  #Default batch size 32, if not specified here\n"
      ],
      "metadata": {
        "id": "4ts9oPjWtOCW"
      },
      "execution_count": null,
      "outputs": []
    },
    {
      "cell_type": "code",
      "source": [
        "### Testing on a few test images\n",
        "\n",
        "a = test_img_generator.next()\n",
        "b = test_mask_generator.next()\n",
        "for i in range(0,5):\n",
        "    image = a[i]\n",
        "    mask = b[i]\n",
        "    plt.subplot(1,2,1)\n",
        "    plt.imshow(image[:,:,0], cmap='gray')\n",
        "    plt.subplot(1,2,2)\n",
        "    plt.imshow(mask[:,:,0])\n",
        "    plt.show()"
      ],
      "metadata": {
        "id": "msi_ptbYtZeU"
      },
      "execution_count": null,
      "outputs": []
    },
    {
      "cell_type": "code",
      "source": [
        "import random\n",
        "test_img_number = random.randint(0, a.shape[0]-1)\n",
        "test_img = a[test_img_number]\n",
        "ground_truth=b[test_img_number]\n",
        "#test_img_norm=test_img[:,:,0][:,:,None]\n",
        "test_img_input=np.expand_dims(test_img, 0)\n",
        "prediction = (model.predict(test_img_input)[0,:,:,0] > 0.6).astype(np.uint8)\n",
        "\n",
        "plt.figure(figsize=(20, 18))\n",
        "plt.subplot(231)\n",
        "plt.title('Testing Image')\n",
        "plt.imshow(test_img[:,:,0], cmap='gray')\n",
        "plt.subplot(232)\n",
        "plt.title('Testing Label')\n",
        "plt.imshow(ground_truth[:,:,0], cmap='gray')\n",
        "plt.subplot(233)\n",
        "plt.title('Prediction on test image')\n",
        "plt.imshow(prediction, cmap='gray')\n",
        "\n",
        "plt.show()\n",
        "\n",
        "#IoU for a single image\n",
        "from tensorflow.keras.metrics import MeanIoU\n",
        "n_classes = 2\n",
        "IOU_keras = MeanIoU(num_classes=n_classes)  \n",
        "IOU_keras.update_state(ground_truth[:,:,0], prediction)\n",
        "print(\"Mean IoU =\", IOU_keras.result().numpy())\n"
      ],
      "metadata": {
        "id": "q8JB37FKtd0R"
      },
      "execution_count": null,
      "outputs": []
    },
    {
      "cell_type": "code",
      "source": [
        "\n"
      ],
      "metadata": {
        "id": "xGvtzYVStm9Z"
      },
      "execution_count": null,
      "outputs": []
    },
    {
      "cell_type": "code",
      "source": [
        "#Calculate IoU and average\n",
        " \n",
        "import pandas as pd\n",
        "\n",
        "IoU_values = []\n",
        "for img in range(0, a.shape[0]):\n",
        "    temp_img = a[img]\n",
        "    ground_truth=b[img]\n",
        "    temp_img_input=np.expand_dims(temp_img, 0)\n",
        "    prediction = (model.predict(temp_img_input)[0,:,:,0] > 0.5).astype(np.uint8)\n",
        "    \n",
        "    IoU = MeanIoU(num_classes=n_classes)\n",
        "    IoU.update_state(ground_truth[:,:,0], prediction)\n",
        "    IoU = IoU.result().numpy()\n",
        "    IoU_values.append(IoU)\n",
        "\n",
        "    print(IoU)"
      ],
      "metadata": {
        "id": "Sbz--CYWtoQx"
      },
      "execution_count": null,
      "outputs": []
    },
    {
      "cell_type": "code",
      "source": [
        "df = pd.DataFrame(IoU_values, columns=[\"IoU\"])\n",
        "#df = df[df.IoU != 1.0]    \n",
        "mean_IoU = df.mean().values\n",
        "print(\"Mean IoU is: \", mean_IoU) "
      ],
      "metadata": {
        "id": "W8WvAZUMttg0"
      },
      "execution_count": null,
      "outputs": []
    },
    {
      "cell_type": "code",
      "source": [
        ""
      ],
      "metadata": {
        "id": "67OhJGF3uslL"
      },
      "execution_count": null,
      "outputs": []
    }
  ]
}